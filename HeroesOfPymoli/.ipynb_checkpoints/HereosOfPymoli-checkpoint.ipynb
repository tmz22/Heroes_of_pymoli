{
 "cells": [
  {
   "cell_type": "code",
   "execution_count": 1,
   "metadata": {},
   "outputs": [],
   "source": [
    "# Dependencies\n",
    "import pandas as pd"
   ]
  },
  {
   "cell_type": "code",
   "execution_count": 2,
   "metadata": {},
   "outputs": [],
   "source": [
    "# File to Load\n",
    "file_to_load = \"Resources/purchase_data.csv\""
   ]
  },
  {
   "cell_type": "code",
   "execution_count": 3,
   "metadata": {},
   "outputs": [
    {
     "data": {
      "text/html": [
       "<div>\n",
       "<style scoped>\n",
       "    .dataframe tbody tr th:only-of-type {\n",
       "        vertical-align: middle;\n",
       "    }\n",
       "\n",
       "    .dataframe tbody tr th {\n",
       "        vertical-align: top;\n",
       "    }\n",
       "\n",
       "    .dataframe thead th {\n",
       "        text-align: right;\n",
       "    }\n",
       "</style>\n",
       "<table border=\"1\" class=\"dataframe\">\n",
       "  <thead>\n",
       "    <tr style=\"text-align: right;\">\n",
       "      <th></th>\n",
       "      <th>Purchase ID</th>\n",
       "      <th>SN</th>\n",
       "      <th>Age</th>\n",
       "      <th>Gender</th>\n",
       "      <th>Item ID</th>\n",
       "      <th>Item Name</th>\n",
       "      <th>Price</th>\n",
       "    </tr>\n",
       "  </thead>\n",
       "  <tbody>\n",
       "    <tr>\n",
       "      <td>0</td>\n",
       "      <td>0</td>\n",
       "      <td>Lisim78</td>\n",
       "      <td>20</td>\n",
       "      <td>Male</td>\n",
       "      <td>108</td>\n",
       "      <td>Extraction, Quickblade Of Trembling Hands</td>\n",
       "      <td>3.53</td>\n",
       "    </tr>\n",
       "    <tr>\n",
       "      <td>1</td>\n",
       "      <td>1</td>\n",
       "      <td>Lisovynya38</td>\n",
       "      <td>40</td>\n",
       "      <td>Male</td>\n",
       "      <td>143</td>\n",
       "      <td>Frenzied Scimitar</td>\n",
       "      <td>1.56</td>\n",
       "    </tr>\n",
       "    <tr>\n",
       "      <td>2</td>\n",
       "      <td>2</td>\n",
       "      <td>Ithergue48</td>\n",
       "      <td>24</td>\n",
       "      <td>Male</td>\n",
       "      <td>92</td>\n",
       "      <td>Final Critic</td>\n",
       "      <td>4.88</td>\n",
       "    </tr>\n",
       "    <tr>\n",
       "      <td>3</td>\n",
       "      <td>3</td>\n",
       "      <td>Chamassasya86</td>\n",
       "      <td>24</td>\n",
       "      <td>Male</td>\n",
       "      <td>100</td>\n",
       "      <td>Blindscythe</td>\n",
       "      <td>3.27</td>\n",
       "    </tr>\n",
       "    <tr>\n",
       "      <td>4</td>\n",
       "      <td>4</td>\n",
       "      <td>Iskosia90</td>\n",
       "      <td>23</td>\n",
       "      <td>Male</td>\n",
       "      <td>131</td>\n",
       "      <td>Fury</td>\n",
       "      <td>1.44</td>\n",
       "    </tr>\n",
       "  </tbody>\n",
       "</table>\n",
       "</div>"
      ],
      "text/plain": [
       "   Purchase ID             SN  Age Gender  Item ID  \\\n",
       "0            0        Lisim78   20   Male      108   \n",
       "1            1    Lisovynya38   40   Male      143   \n",
       "2            2     Ithergue48   24   Male       92   \n",
       "3            3  Chamassasya86   24   Male      100   \n",
       "4            4      Iskosia90   23   Male      131   \n",
       "\n",
       "                                   Item Name  Price  \n",
       "0  Extraction, Quickblade Of Trembling Hands   3.53  \n",
       "1                          Frenzied Scimitar   1.56  \n",
       "2                               Final Critic   4.88  \n",
       "3                                Blindscythe   3.27  \n",
       "4                                       Fury   1.44  "
      ]
     },
     "execution_count": 3,
     "metadata": {},
     "output_type": "execute_result"
    }
   ],
   "source": [
    "# Read Purchasing File and store into Pandas data frame\n",
    "purchase_data = pd.read_csv(file_to_load)\n",
    "purchase_data.head()"
   ]
  },
  {
   "cell_type": "code",
   "execution_count": 4,
   "metadata": {},
   "outputs": [],
   "source": [
    "## Player Count"
   ]
  },
  {
   "cell_type": "code",
   "execution_count": 5,
   "metadata": {},
   "outputs": [],
   "source": [
    "total_players=purchase_data[\"SN\"].nunique()"
   ]
  },
  {
   "cell_type": "code",
   "execution_count": 6,
   "metadata": {
    "scrolled": true
   },
   "outputs": [
    {
     "data": {
      "text/html": [
       "<div>\n",
       "<style scoped>\n",
       "    .dataframe tbody tr th:only-of-type {\n",
       "        vertical-align: middle;\n",
       "    }\n",
       "\n",
       "    .dataframe tbody tr th {\n",
       "        vertical-align: top;\n",
       "    }\n",
       "\n",
       "    .dataframe thead th {\n",
       "        text-align: right;\n",
       "    }\n",
       "</style>\n",
       "<table border=\"1\" class=\"dataframe\">\n",
       "  <thead>\n",
       "    <tr style=\"text-align: right;\">\n",
       "      <th></th>\n",
       "      <th>Total Players</th>\n",
       "    </tr>\n",
       "  </thead>\n",
       "  <tbody>\n",
       "    <tr>\n",
       "      <td>0</td>\n",
       "      <td>576</td>\n",
       "    </tr>\n",
       "  </tbody>\n",
       "</table>\n",
       "</div>"
      ],
      "text/plain": [
       "   Total Players\n",
       "0            576"
      ]
     },
     "execution_count": 6,
     "metadata": {},
     "output_type": "execute_result"
    }
   ],
   "source": [
    "pd.DataFrame({\"Total Players\":[total_players]})"
   ]
  },
  {
   "cell_type": "code",
   "execution_count": 7,
   "metadata": {},
   "outputs": [],
   "source": [
    "##Purchasing Analysis (Total)"
   ]
  },
  {
   "cell_type": "code",
   "execution_count": 8,
   "metadata": {},
   "outputs": [],
   "source": [
    "##Run basic calculations to obtain number of unique items, average price, etc.\n",
    "##Create a summary data frame to hold the results\n",
    "##Optional: give the displayed data cleaner formatting\n",
    "##Display the summary data frame"
   ]
  },
  {
   "cell_type": "code",
   "execution_count": 9,
   "metadata": {},
   "outputs": [
    {
     "data": {
      "text/plain": [
       "3.050987179487176"
      ]
     },
     "execution_count": 9,
     "metadata": {},
     "output_type": "execute_result"
    }
   ],
   "source": [
    "#Variable and calcualtion for average. \n",
    "average_price = purchase_data[\"Price\"].mean()\n",
    "average_price"
   ]
  },
  {
   "cell_type": "code",
   "execution_count": 10,
   "metadata": {},
   "outputs": [
    {
     "data": {
      "text/plain": [
       "2379.77"
      ]
     },
     "execution_count": 10,
     "metadata": {},
     "output_type": "execute_result"
    }
   ],
   "source": [
    "#Variable and calculation for total revenue.\n",
    "total_purchase = purchase_data[\"Price\"].sum()\n",
    "total_purchase"
   ]
  },
  {
   "cell_type": "code",
   "execution_count": 11,
   "metadata": {},
   "outputs": [
    {
     "data": {
      "text/plain": [
       "780"
      ]
     },
     "execution_count": 11,
     "metadata": {},
     "output_type": "execute_result"
    }
   ],
   "source": [
    "#Variable and calculation for number of purchases.\n",
    "purchase_count = purchase_data[\"Price\"].count()\n",
    "purchase_count"
   ]
  },
  {
   "cell_type": "code",
   "execution_count": 12,
   "metadata": {},
   "outputs": [
    {
     "data": {
      "text/plain": [
       "179"
      ]
     },
     "execution_count": 12,
     "metadata": {},
     "output_type": "execute_result"
    }
   ],
   "source": [
    "#Variable and calculation for number of unique items. \n",
    "unique_items =len(purchase_data[\"Item ID\"].unique())\n",
    "unique_items"
   ]
  },
  {
   "cell_type": "code",
   "execution_count": 13,
   "metadata": {},
   "outputs": [
    {
     "data": {
      "text/html": [
       "<div>\n",
       "<style scoped>\n",
       "    .dataframe tbody tr th:only-of-type {\n",
       "        vertical-align: middle;\n",
       "    }\n",
       "\n",
       "    .dataframe tbody tr th {\n",
       "        vertical-align: top;\n",
       "    }\n",
       "\n",
       "    .dataframe thead th {\n",
       "        text-align: right;\n",
       "    }\n",
       "</style>\n",
       "<table border=\"1\" class=\"dataframe\">\n",
       "  <thead>\n",
       "    <tr style=\"text-align: right;\">\n",
       "      <th></th>\n",
       "      <th>Number of Unique Items</th>\n",
       "      <th>Average Price</th>\n",
       "      <th>Number of Purchases</th>\n",
       "      <th>Total Revenue</th>\n",
       "    </tr>\n",
       "  </thead>\n",
       "  <tbody>\n",
       "    <tr>\n",
       "      <td>0</td>\n",
       "      <td>179</td>\n",
       "      <td>$3.05</td>\n",
       "      <td>780</td>\n",
       "      <td>$2,379.77</td>\n",
       "    </tr>\n",
       "  </tbody>\n",
       "</table>\n",
       "</div>"
      ],
      "text/plain": [
       "   Number of Unique Items Average Price  Number of Purchases Total Revenue\n",
       "0                     179         $3.05                  780     $2,379.77"
      ]
     },
     "execution_count": 13,
     "metadata": {},
     "output_type": "execute_result"
    }
   ],
   "source": [
    "#Summary data frame to hold the results\n",
    "summary_table = pd.DataFrame({\"Number of Unique Items\":[unique_items],\n",
    "                             \"Average Price\":[average_price],\n",
    "                             \"Number of Purchases\":[purchase_count],\n",
    "                             \"Total Revenue\":[total_purchase]})\n",
    "\n",
    "#Optional: give the displayed data cleaner formatting\n",
    "summary_table [\"Average Price\"] = summary_table[\"Average Price\"].map(\"${:,.2f}\".format)\n",
    "summary_table [\"Total Revenue\"] = summary_table[\"Total Revenue\"].map(\"${:,.2f}\".format)\n",
    "summary_table"
   ]
  },
  {
   "cell_type": "code",
   "execution_count": 14,
   "metadata": {},
   "outputs": [],
   "source": [
    "##Gender Demographics"
   ]
  },
  {
   "cell_type": "code",
   "execution_count": 15,
   "metadata": {},
   "outputs": [],
   "source": [
    "##Percentage and Count of Male Players\n",
    "##Percentage and Count of Female Players\n",
    "##Percentage and Count of Other / Non-Disclosed"
   ]
  },
  {
   "cell_type": "code",
   "execution_count": 16,
   "metadata": {},
   "outputs": [
    {
     "data": {
      "text/html": [
       "<style  type=\"text/css\" >\n",
       "</style><table id=\"T_f5696e14_7925_11ea_8fe5_b068e664222c\" ><thead>    <tr>        <th class=\"blank level0\" ></th>        <th class=\"col_heading level0 col0\" >Percentage of Players</th>        <th class=\"col_heading level0 col1\" >Total Count</th>    </tr></thead><tbody>\n",
       "                <tr>\n",
       "                        <th id=\"T_f5696e14_7925_11ea_8fe5_b068e664222clevel0_row0\" class=\"row_heading level0 row0\" >Male</th>\n",
       "                        <td id=\"T_f5696e14_7925_11ea_8fe5_b068e664222crow0_col0\" class=\"data row0 col0\" >84.03%</td>\n",
       "                        <td id=\"T_f5696e14_7925_11ea_8fe5_b068e664222crow0_col1\" class=\"data row0 col1\" >484</td>\n",
       "            </tr>\n",
       "            <tr>\n",
       "                        <th id=\"T_f5696e14_7925_11ea_8fe5_b068e664222clevel0_row1\" class=\"row_heading level0 row1\" >Female</th>\n",
       "                        <td id=\"T_f5696e14_7925_11ea_8fe5_b068e664222crow1_col0\" class=\"data row1 col0\" >14.06%</td>\n",
       "                        <td id=\"T_f5696e14_7925_11ea_8fe5_b068e664222crow1_col1\" class=\"data row1 col1\" >81</td>\n",
       "            </tr>\n",
       "            <tr>\n",
       "                        <th id=\"T_f5696e14_7925_11ea_8fe5_b068e664222clevel0_row2\" class=\"row_heading level0 row2\" >Other / Non-Disclosed</th>\n",
       "                        <td id=\"T_f5696e14_7925_11ea_8fe5_b068e664222crow2_col0\" class=\"data row2 col0\" >1.91%</td>\n",
       "                        <td id=\"T_f5696e14_7925_11ea_8fe5_b068e664222crow2_col1\" class=\"data row2 col1\" >11</td>\n",
       "            </tr>\n",
       "    </tbody></table>"
      ],
      "text/plain": [
       "<pandas.io.formats.style.Styler at 0x244789f0a88>"
      ]
     },
     "execution_count": 16,
     "metadata": {},
     "output_type": "execute_result"
    }
   ],
   "source": [
    "#Groupby \n",
    "players_gen = purchase_data.groupby(\"Gender\")\n",
    "players_gen\n",
    "\n",
    "# Count the total players \"SN\" by gender.\n",
    "gender_count = players_gen.nunique()[\"SN\"]\n",
    "gender_count\n",
    "\n",
    "#Percentage of players based on gender.\n",
    "gender_per = gender_count / total_players * 100\n",
    "\n",
    "# Create data frame with obtained values\n",
    "gender_demo = pd.DataFrame({\"Percentage of Players\": gender_per, \"Total Count\": gender_count})\n",
    "\n",
    "# Format the data frame with no index name in the corner\n",
    "gender_demo.index.name = None\n",
    "\n",
    "\n",
    "# Create data frame\n",
    "#gender_demo.sort_values([\"Total Count\"], ascending = False).style.format({\"Percentage of Players\":\"{:.2f}%\"})\n",
    "gender_demo.sort_values([\"Total Count\"], ascending = False).style.format({\"Percentage of Players\":\"{:.2f}%\"})"
   ]
  },
  {
   "cell_type": "code",
   "execution_count": 17,
   "metadata": {},
   "outputs": [],
   "source": [
    "##Purchasing Analysis (Gender)"
   ]
  },
  {
   "cell_type": "code",
   "execution_count": 18,
   "metadata": {},
   "outputs": [],
   "source": [
    "##Run basic calculations to obtain purchase count, avg. purchase price, avg. purchase total per person etc. by gender\n",
    "##Create a summary data frame to hold the results\n",
    "##Optional: give the displayed data cleaner formatting\n",
    "##Display the summary data frame"
   ]
  },
  {
   "cell_type": "code",
   "execution_count": 19,
   "metadata": {},
   "outputs": [],
   "source": [
    "#Groupby\n",
    "#purchase_data = pd.read_csv(file_to_load)\n",
    "#gender_purchase_total = purchase_data.groupby([\"Gender\"]).sum()[\"Price\"].rename(\"Total Purchase Value\")\n",
    "#gender_average = purchase_data.groupby([\"Gender\"]).mean()[\"Price\"].rename(\"Average Purchase Price\")\n",
    "#gender_counts = purchase_data.groupby([\"Gender\"]).count()[\"Price\"].rename(\"Purchase Count\")"
   ]
  },
  {
   "cell_type": "code",
   "execution_count": 20,
   "metadata": {},
   "outputs": [
    {
     "data": {
      "text/plain": [
       "Female                   113\n",
       "Male                     652\n",
       "Other / Non-Disclosed     15\n",
       "Name: Purchase ID, dtype: int64"
      ]
     },
     "execution_count": 20,
     "metadata": {},
     "output_type": "execute_result"
    }
   ],
   "source": [
    "#Variable and calcualtion for purchase count by gender \n",
    "purchase_count = players_gen[\"Purchase ID\"].count()\n",
    "purchase_count"
   ]
  },
  {
   "cell_type": "code",
   "execution_count": 21,
   "metadata": {},
   "outputs": [
    {
     "data": {
      "text/plain": [
       "Female                   3.203009\n",
       "Male                     3.017853\n",
       "Other / Non-Disclosed    3.346000\n",
       "Name: Price, dtype: float64"
      ]
     },
     "execution_count": 21,
     "metadata": {},
     "output_type": "execute_result"
    }
   ],
   "source": [
    "#Variable and calculation for Average Purchase Price\n",
    "avg_price = players_gen[\"Price\"].mean()\n",
    "avg_price"
   ]
  },
  {
   "cell_type": "code",
   "execution_count": 22,
   "metadata": {},
   "outputs": [
    {
     "data": {
      "text/plain": [
       "Female                    361.94\n",
       "Male                     1967.64\n",
       "Other / Non-Disclosed      50.19\n",
       "Name: Price, dtype: float64"
      ]
     },
     "execution_count": 22,
     "metadata": {},
     "output_type": "execute_result"
    }
   ],
   "source": [
    "#Variable and calculation for Average Purchase Total\n",
    "avg_purchase_total = players_gen[\"Price\"].sum()\n",
    "avg_purchase_total"
   ]
  },
  {
   "cell_type": "code",
   "execution_count": 23,
   "metadata": {},
   "outputs": [
    {
     "data": {
      "text/plain": [
       "Female                   4.468395\n",
       "Male                     4.065372\n",
       "Other / Non-Disclosed    4.562727\n",
       "dtype: float64"
      ]
     },
     "execution_count": 23,
     "metadata": {},
     "output_type": "execute_result"
    }
   ],
   "source": [
    "#Variable and calculation for Average Total Per Person\n",
    "avg_per_person = avg_purchase_total/gender_count\n",
    "avg_per_person"
   ]
  },
  {
   "cell_type": "code",
   "execution_count": 24,
   "metadata": {
    "scrolled": true
   },
   "outputs": [
    {
     "data": {
      "text/html": [
       "<div>\n",
       "<style scoped>\n",
       "    .dataframe tbody tr th:only-of-type {\n",
       "        vertical-align: middle;\n",
       "    }\n",
       "\n",
       "    .dataframe tbody tr th {\n",
       "        vertical-align: top;\n",
       "    }\n",
       "\n",
       "    .dataframe thead th {\n",
       "        text-align: right;\n",
       "    }\n",
       "</style>\n",
       "<table border=\"1\" class=\"dataframe\">\n",
       "  <thead>\n",
       "    <tr style=\"text-align: right;\">\n",
       "      <th></th>\n",
       "      <th>Purchase Count</th>\n",
       "      <th>Average Purchase Price</th>\n",
       "      <th>Average Purchase Value</th>\n",
       "      <th>Avg Purchase Total per Person</th>\n",
       "    </tr>\n",
       "    <tr>\n",
       "      <th>Gender</th>\n",
       "      <th></th>\n",
       "      <th></th>\n",
       "      <th></th>\n",
       "      <th></th>\n",
       "    </tr>\n",
       "  </thead>\n",
       "  <tbody>\n",
       "    <tr>\n",
       "      <td>Female</td>\n",
       "      <td>113</td>\n",
       "      <td>$3.20</td>\n",
       "      <td>$361.94</td>\n",
       "      <td>$4.47</td>\n",
       "    </tr>\n",
       "    <tr>\n",
       "      <td>Male</td>\n",
       "      <td>652</td>\n",
       "      <td>$3.02</td>\n",
       "      <td>$1,967.64</td>\n",
       "      <td>$4.07</td>\n",
       "    </tr>\n",
       "    <tr>\n",
       "      <td>Other / Non-Disclosed</td>\n",
       "      <td>15</td>\n",
       "      <td>$3.35</td>\n",
       "      <td>$50.19</td>\n",
       "      <td>$4.56</td>\n",
       "    </tr>\n",
       "  </tbody>\n",
       "</table>\n",
       "</div>"
      ],
      "text/plain": [
       "                       Purchase Count Average Purchase Price  \\\n",
       "Gender                                                         \n",
       "Female                            113                  $3.20   \n",
       "Male                              652                  $3.02   \n",
       "Other / Non-Disclosed              15                  $3.35   \n",
       "\n",
       "                      Average Purchase Value Avg Purchase Total per Person  \n",
       "Gender                                                                      \n",
       "Female                               $361.94                         $4.47  \n",
       "Male                               $1,967.64                         $4.07  \n",
       "Other / Non-Disclosed                 $50.19                         $4.56  "
      ]
     },
     "execution_count": 24,
     "metadata": {},
     "output_type": "execute_result"
    }
   ],
   "source": [
    "\n",
    "#Data frame to show the results \n",
    "gender_demo = pd.DataFrame({\"Purchase Count\": purchase_count, \n",
    "                                    \"Average Purchase Price\": avg_price,\n",
    "                                    \"Average Purchase Value\":avg_purchase_total,\n",
    "                                    \"Avg Purchase Total per Person\": avg_per_person})\n",
    "\n",
    "# Provide index in top left as \"Gender\"\n",
    "gender_demo.index.name = \"Gender\"\n",
    "\n",
    "# Format with currency style\n",
    "gender_demo [\"Average Purchase Value\"] = gender_demo[\"Average Purchase Value\"].map(\"${:,.2f}\".format)\n",
    "gender_demo [\"Average Purchase Price\"] = gender_demo[\"Average Purchase Price\"].map(\"${:,.2f}\".format)\n",
    "gender_demo [\"Avg Purchase Total per Person\"]= gender_demo[\"Avg Purchase Total per Person\"].map(\"${:,.2f}\".format)\n",
    "gender_demo"
   ]
  },
  {
   "cell_type": "code",
   "execution_count": 25,
   "metadata": {},
   "outputs": [],
   "source": [
    "##Age Demographics"
   ]
  },
  {
   "cell_type": "code",
   "execution_count": 26,
   "metadata": {},
   "outputs": [],
   "source": [
    "##Establish bins for ages\n",
    "##Categorize the existing players using the age bins. Hint: use pd.cut()\n",
    "##Calculate the numbers and percentages by age group\n",
    "##Create a summary data frame to hold the results\n",
    "##Optional: round the percentage column to two decimal points\n",
    "##Display Age Demographics Table"
   ]
  },
  {
   "cell_type": "code",
   "execution_count": 27,
   "metadata": {},
   "outputs": [
    {
     "data": {
      "text/html": [
       "<style  type=\"text/css\" >\n",
       "</style><table id=\"T_f9c810e2_7925_11ea_9463_b068e664222c\" ><thead>    <tr>        <th class=\"blank level0\" ></th>        <th class=\"col_heading level0 col0\" >Percentage of Players</th>        <th class=\"col_heading level0 col1\" >Total Count</th>    </tr></thead><tbody>\n",
       "                <tr>\n",
       "                        <th id=\"T_f9c810e2_7925_11ea_9463_b068e664222clevel0_row0\" class=\"row_heading level0 row0\" ><10</th>\n",
       "                        <td id=\"T_f9c810e2_7925_11ea_9463_b068e664222crow0_col0\" class=\"data row0 col0\" >2.95</td>\n",
       "                        <td id=\"T_f9c810e2_7925_11ea_9463_b068e664222crow0_col1\" class=\"data row0 col1\" >17</td>\n",
       "            </tr>\n",
       "            <tr>\n",
       "                        <th id=\"T_f9c810e2_7925_11ea_9463_b068e664222clevel0_row1\" class=\"row_heading level0 row1\" >10-14</th>\n",
       "                        <td id=\"T_f9c810e2_7925_11ea_9463_b068e664222crow1_col0\" class=\"data row1 col0\" >3.82</td>\n",
       "                        <td id=\"T_f9c810e2_7925_11ea_9463_b068e664222crow1_col1\" class=\"data row1 col1\" >22</td>\n",
       "            </tr>\n",
       "            <tr>\n",
       "                        <th id=\"T_f9c810e2_7925_11ea_9463_b068e664222clevel0_row2\" class=\"row_heading level0 row2\" >15-19</th>\n",
       "                        <td id=\"T_f9c810e2_7925_11ea_9463_b068e664222crow2_col0\" class=\"data row2 col0\" >18.58</td>\n",
       "                        <td id=\"T_f9c810e2_7925_11ea_9463_b068e664222crow2_col1\" class=\"data row2 col1\" >107</td>\n",
       "            </tr>\n",
       "            <tr>\n",
       "                        <th id=\"T_f9c810e2_7925_11ea_9463_b068e664222clevel0_row3\" class=\"row_heading level0 row3\" >20-24</th>\n",
       "                        <td id=\"T_f9c810e2_7925_11ea_9463_b068e664222crow3_col0\" class=\"data row3 col0\" >44.79</td>\n",
       "                        <td id=\"T_f9c810e2_7925_11ea_9463_b068e664222crow3_col1\" class=\"data row3 col1\" >258</td>\n",
       "            </tr>\n",
       "            <tr>\n",
       "                        <th id=\"T_f9c810e2_7925_11ea_9463_b068e664222clevel0_row4\" class=\"row_heading level0 row4\" >25-29</th>\n",
       "                        <td id=\"T_f9c810e2_7925_11ea_9463_b068e664222crow4_col0\" class=\"data row4 col0\" >13.37</td>\n",
       "                        <td id=\"T_f9c810e2_7925_11ea_9463_b068e664222crow4_col1\" class=\"data row4 col1\" >77</td>\n",
       "            </tr>\n",
       "            <tr>\n",
       "                        <th id=\"T_f9c810e2_7925_11ea_9463_b068e664222clevel0_row5\" class=\"row_heading level0 row5\" >30-34</th>\n",
       "                        <td id=\"T_f9c810e2_7925_11ea_9463_b068e664222crow5_col0\" class=\"data row5 col0\" >9.03</td>\n",
       "                        <td id=\"T_f9c810e2_7925_11ea_9463_b068e664222crow5_col1\" class=\"data row5 col1\" >52</td>\n",
       "            </tr>\n",
       "            <tr>\n",
       "                        <th id=\"T_f9c810e2_7925_11ea_9463_b068e664222clevel0_row6\" class=\"row_heading level0 row6\" >35-39</th>\n",
       "                        <td id=\"T_f9c810e2_7925_11ea_9463_b068e664222crow6_col0\" class=\"data row6 col0\" >5.38</td>\n",
       "                        <td id=\"T_f9c810e2_7925_11ea_9463_b068e664222crow6_col1\" class=\"data row6 col1\" >31</td>\n",
       "            </tr>\n",
       "            <tr>\n",
       "                        <th id=\"T_f9c810e2_7925_11ea_9463_b068e664222clevel0_row7\" class=\"row_heading level0 row7\" >40+</th>\n",
       "                        <td id=\"T_f9c810e2_7925_11ea_9463_b068e664222crow7_col0\" class=\"data row7 col0\" >2.08</td>\n",
       "                        <td id=\"T_f9c810e2_7925_11ea_9463_b068e664222crow7_col1\" class=\"data row7 col1\" >12</td>\n",
       "            </tr>\n",
       "    </tbody></table>"
      ],
      "text/plain": [
       "<pandas.io.formats.style.Styler at 0x24478f8ab08>"
      ]
     },
     "execution_count": 27,
     "metadata": {},
     "output_type": "execute_result"
    }
   ],
   "source": [
    "#Bins and labels for ages \n",
    "bins = [0, 9, 14, 19, 24, 29, 34, 39, 100]\n",
    "age_labels = [\"<10\", \"10-14\", \"15-19\", \"20-24\", \"25-29\", \"30-34\", \"35-39\", \"40+\"]\n",
    "\n",
    "#Sort age values into bins established above\n",
    "purchase_data[\"Age Group\"] = pd.cut(purchase_data[\"Age\"],bins, labels=age_labels)\n",
    "purchase_data\n",
    "\n",
    "#Data frame with \"Age Group\" and group it\n",
    "age_grouped = purchase_data.groupby(\"Age Group\")\n",
    "\n",
    "# Count total players by age category\n",
    "total_age_count = age_grouped[\"SN\"].nunique()\n",
    "\n",
    "# Calculate percentages by age category \n",
    "per_age = (total_age_count/total_players) * 100\n",
    "\n",
    "# Create data frame with obtained values\n",
    "age_table = pd.DataFrame({\"Percentage of Players\": per_age, \"Total Count\": total_age_count})\n",
    "\n",
    "# Format the data frame with no index name in the corner\n",
    "age_table.index.name = None\n",
    "\n",
    "# Format percentage with two decimal places \n",
    "age_table.style.format({\"Percentage of Players\":\"{:,.2f}\"})\n"
   ]
  },
  {
   "cell_type": "code",
   "execution_count": 28,
   "metadata": {},
   "outputs": [],
   "source": [
    "## Purchasing Analysis (Age)"
   ]
  },
  {
   "cell_type": "code",
   "execution_count": 29,
   "metadata": {},
   "outputs": [],
   "source": [
    "##Bin the purchase_data data frame by age\n",
    "##Run basic calculations to obtain purchase count, avg. purchase price, avg. purchase total per person etc. in the table below\n",
    "##Create a summary data frame to hold the results\n",
    "##Optional: give the displayed data cleaner formatting\n",
    "##Display the summary data frame"
   ]
  },
  {
   "cell_type": "code",
   "execution_count": 30,
   "metadata": {},
   "outputs": [
    {
     "data": {
      "text/html": [
       "<style  type=\"text/css\" >\n",
       "</style><table id=\"T_fb64b4ac_7925_11ea_8ea4_b068e664222c\" ><thead>    <tr>        <th class=\"blank level0\" ></th>        <th class=\"col_heading level0 col0\" >Purchase Count</th>        <th class=\"col_heading level0 col1\" >Average Purchase Price</th>        <th class=\"col_heading level0 col2\" >Total Purchase Value</th>        <th class=\"col_heading level0 col3\" >Average Purchase Total per Person</th>    </tr></thead><tbody>\n",
       "                <tr>\n",
       "                        <th id=\"T_fb64b4ac_7925_11ea_8ea4_b068e664222clevel0_row0\" class=\"row_heading level0 row0\" ><10</th>\n",
       "                        <td id=\"T_fb64b4ac_7925_11ea_8ea4_b068e664222crow0_col0\" class=\"data row0 col0\" >23</td>\n",
       "                        <td id=\"T_fb64b4ac_7925_11ea_8ea4_b068e664222crow0_col1\" class=\"data row0 col1\" >$3.35</td>\n",
       "                        <td id=\"T_fb64b4ac_7925_11ea_8ea4_b068e664222crow0_col2\" class=\"data row0 col2\" >$77.13</td>\n",
       "                        <td id=\"T_fb64b4ac_7925_11ea_8ea4_b068e664222crow0_col3\" class=\"data row0 col3\" >$4.54</td>\n",
       "            </tr>\n",
       "            <tr>\n",
       "                        <th id=\"T_fb64b4ac_7925_11ea_8ea4_b068e664222clevel0_row1\" class=\"row_heading level0 row1\" >10-14</th>\n",
       "                        <td id=\"T_fb64b4ac_7925_11ea_8ea4_b068e664222crow1_col0\" class=\"data row1 col0\" >28</td>\n",
       "                        <td id=\"T_fb64b4ac_7925_11ea_8ea4_b068e664222crow1_col1\" class=\"data row1 col1\" >$2.96</td>\n",
       "                        <td id=\"T_fb64b4ac_7925_11ea_8ea4_b068e664222crow1_col2\" class=\"data row1 col2\" >$82.78</td>\n",
       "                        <td id=\"T_fb64b4ac_7925_11ea_8ea4_b068e664222crow1_col3\" class=\"data row1 col3\" >$3.76</td>\n",
       "            </tr>\n",
       "            <tr>\n",
       "                        <th id=\"T_fb64b4ac_7925_11ea_8ea4_b068e664222clevel0_row2\" class=\"row_heading level0 row2\" >15-19</th>\n",
       "                        <td id=\"T_fb64b4ac_7925_11ea_8ea4_b068e664222crow2_col0\" class=\"data row2 col0\" >136</td>\n",
       "                        <td id=\"T_fb64b4ac_7925_11ea_8ea4_b068e664222crow2_col1\" class=\"data row2 col1\" >$3.04</td>\n",
       "                        <td id=\"T_fb64b4ac_7925_11ea_8ea4_b068e664222crow2_col2\" class=\"data row2 col2\" >$412.89</td>\n",
       "                        <td id=\"T_fb64b4ac_7925_11ea_8ea4_b068e664222crow2_col3\" class=\"data row2 col3\" >$3.86</td>\n",
       "            </tr>\n",
       "            <tr>\n",
       "                        <th id=\"T_fb64b4ac_7925_11ea_8ea4_b068e664222clevel0_row3\" class=\"row_heading level0 row3\" >20-24</th>\n",
       "                        <td id=\"T_fb64b4ac_7925_11ea_8ea4_b068e664222crow3_col0\" class=\"data row3 col0\" >365</td>\n",
       "                        <td id=\"T_fb64b4ac_7925_11ea_8ea4_b068e664222crow3_col1\" class=\"data row3 col1\" >$3.05</td>\n",
       "                        <td id=\"T_fb64b4ac_7925_11ea_8ea4_b068e664222crow3_col2\" class=\"data row3 col2\" >$1,114.06</td>\n",
       "                        <td id=\"T_fb64b4ac_7925_11ea_8ea4_b068e664222crow3_col3\" class=\"data row3 col3\" >$4.32</td>\n",
       "            </tr>\n",
       "            <tr>\n",
       "                        <th id=\"T_fb64b4ac_7925_11ea_8ea4_b068e664222clevel0_row4\" class=\"row_heading level0 row4\" >25-29</th>\n",
       "                        <td id=\"T_fb64b4ac_7925_11ea_8ea4_b068e664222crow4_col0\" class=\"data row4 col0\" >101</td>\n",
       "                        <td id=\"T_fb64b4ac_7925_11ea_8ea4_b068e664222crow4_col1\" class=\"data row4 col1\" >$2.90</td>\n",
       "                        <td id=\"T_fb64b4ac_7925_11ea_8ea4_b068e664222crow4_col2\" class=\"data row4 col2\" >$293.00</td>\n",
       "                        <td id=\"T_fb64b4ac_7925_11ea_8ea4_b068e664222crow4_col3\" class=\"data row4 col3\" >$3.81</td>\n",
       "            </tr>\n",
       "            <tr>\n",
       "                        <th id=\"T_fb64b4ac_7925_11ea_8ea4_b068e664222clevel0_row5\" class=\"row_heading level0 row5\" >30-34</th>\n",
       "                        <td id=\"T_fb64b4ac_7925_11ea_8ea4_b068e664222crow5_col0\" class=\"data row5 col0\" >73</td>\n",
       "                        <td id=\"T_fb64b4ac_7925_11ea_8ea4_b068e664222crow5_col1\" class=\"data row5 col1\" >$2.93</td>\n",
       "                        <td id=\"T_fb64b4ac_7925_11ea_8ea4_b068e664222crow5_col2\" class=\"data row5 col2\" >$214.00</td>\n",
       "                        <td id=\"T_fb64b4ac_7925_11ea_8ea4_b068e664222crow5_col3\" class=\"data row5 col3\" >$4.12</td>\n",
       "            </tr>\n",
       "            <tr>\n",
       "                        <th id=\"T_fb64b4ac_7925_11ea_8ea4_b068e664222clevel0_row6\" class=\"row_heading level0 row6\" >35-39</th>\n",
       "                        <td id=\"T_fb64b4ac_7925_11ea_8ea4_b068e664222crow6_col0\" class=\"data row6 col0\" >41</td>\n",
       "                        <td id=\"T_fb64b4ac_7925_11ea_8ea4_b068e664222crow6_col1\" class=\"data row6 col1\" >$3.60</td>\n",
       "                        <td id=\"T_fb64b4ac_7925_11ea_8ea4_b068e664222crow6_col2\" class=\"data row6 col2\" >$147.67</td>\n",
       "                        <td id=\"T_fb64b4ac_7925_11ea_8ea4_b068e664222crow6_col3\" class=\"data row6 col3\" >$4.76</td>\n",
       "            </tr>\n",
       "            <tr>\n",
       "                        <th id=\"T_fb64b4ac_7925_11ea_8ea4_b068e664222clevel0_row7\" class=\"row_heading level0 row7\" >40+</th>\n",
       "                        <td id=\"T_fb64b4ac_7925_11ea_8ea4_b068e664222crow7_col0\" class=\"data row7 col0\" >13</td>\n",
       "                        <td id=\"T_fb64b4ac_7925_11ea_8ea4_b068e664222crow7_col1\" class=\"data row7 col1\" >$2.94</td>\n",
       "                        <td id=\"T_fb64b4ac_7925_11ea_8ea4_b068e664222crow7_col2\" class=\"data row7 col2\" >$38.24</td>\n",
       "                        <td id=\"T_fb64b4ac_7925_11ea_8ea4_b068e664222crow7_col3\" class=\"data row7 col3\" >$3.19</td>\n",
       "            </tr>\n",
       "    </tbody></table>"
      ],
      "text/plain": [
       "<pandas.io.formats.style.Styler at 0x244792a08c8>"
      ]
     },
     "execution_count": 30,
     "metadata": {},
     "output_type": "execute_result"
    }
   ],
   "source": [
    "#Bins\n",
    "bins = [0,9,14,19,24,29,34,39, 100]\n",
    "\n",
    "# Count purchases by age group\n",
    "purchase_count = age_grouped[\"Purchase ID\"].count()\n",
    "\n",
    "# Obtain average purchase price by age group \n",
    "avg_purchase_age = age_grouped[\"Price\"].mean()\n",
    "\n",
    "# Calculate total purchase value by age group \n",
    "total_purchase_value = age_grouped[\"Price\"].sum()\n",
    "\n",
    "# Calculate the average purchase per person in the age group \n",
    "avg_per_person_age = total_purchase_value/total_age_count\n",
    "\n",
    "# Create data frame with obtained values\n",
    "age_demographics = pd.DataFrame({\"Purchase Count\": purchase_count,\n",
    "                                 \"Average Purchase Price\": avg_purchase_age,\n",
    "                                 \"Total Purchase Value\":total_purchase_value,\n",
    "                                 \"Average Purchase Total per Person\": avg_per_person_age})\n",
    "\n",
    "# Format the data frame with no index name in the corner\n",
    "age_demographics.index.name = None\n",
    "\n",
    "# Format with currency style\n",
    "age_demographics.style.format({\"Average Purchase Price\":\"${:,.2f}\",\n",
    "                               \"Total Purchase Value\":\"${:,.2f}\",\n",
    "                               \"Average Purchase Total per Person\":\"${:,.2f}\"})"
   ]
  },
  {
   "cell_type": "code",
   "execution_count": 31,
   "metadata": {},
   "outputs": [],
   "source": [
    "## Top Spenders"
   ]
  },
  {
   "cell_type": "code",
   "execution_count": 32,
   "metadata": {},
   "outputs": [],
   "source": [
    "##Run basic calculations to obtain the results in the table below\n",
    "##Create a summary data frame to hold the results\n",
    "##Sort the total purchase value column in descending order\n",
    "##Optional: give the displayed data cleaner formatting\n",
    "##Display a preview of the summary data frame"
   ]
  },
  {
   "cell_type": "code",
   "execution_count": 33,
   "metadata": {},
   "outputs": [
    {
     "data": {
      "text/html": [
       "<div>\n",
       "<style scoped>\n",
       "    .dataframe tbody tr th:only-of-type {\n",
       "        vertical-align: middle;\n",
       "    }\n",
       "\n",
       "    .dataframe tbody tr th {\n",
       "        vertical-align: top;\n",
       "    }\n",
       "\n",
       "    .dataframe thead th {\n",
       "        text-align: right;\n",
       "    }\n",
       "</style>\n",
       "<table border=\"1\" class=\"dataframe\">\n",
       "  <thead>\n",
       "    <tr style=\"text-align: right;\">\n",
       "      <th></th>\n",
       "      <th>Purchase Count</th>\n",
       "      <th>Average Purchase Price</th>\n",
       "      <th>Total Purchase Value</th>\n",
       "    </tr>\n",
       "    <tr>\n",
       "      <th>SN</th>\n",
       "      <th></th>\n",
       "      <th></th>\n",
       "      <th></th>\n",
       "    </tr>\n",
       "  </thead>\n",
       "  <tbody>\n",
       "    <tr>\n",
       "      <td>Lisosia93</td>\n",
       "      <td>5</td>\n",
       "      <td>$ 3.79</td>\n",
       "      <td>$ 18.96</td>\n",
       "    </tr>\n",
       "    <tr>\n",
       "      <td>Idastidru52</td>\n",
       "      <td>4</td>\n",
       "      <td>$ 3.86</td>\n",
       "      <td>$ 15.45</td>\n",
       "    </tr>\n",
       "    <tr>\n",
       "      <td>Chamjask73</td>\n",
       "      <td>3</td>\n",
       "      <td>$ 4.61</td>\n",
       "      <td>$ 13.83</td>\n",
       "    </tr>\n",
       "    <tr>\n",
       "      <td>Iral74</td>\n",
       "      <td>4</td>\n",
       "      <td>$ 3.40</td>\n",
       "      <td>$ 13.62</td>\n",
       "    </tr>\n",
       "    <tr>\n",
       "      <td>Iskadarya95</td>\n",
       "      <td>3</td>\n",
       "      <td>$ 4.37</td>\n",
       "      <td>$ 13.10</td>\n",
       "    </tr>\n",
       "  </tbody>\n",
       "</table>\n",
       "</div>"
      ],
      "text/plain": [
       "             Purchase Count Average Purchase Price Total Purchase Value\n",
       "SN                                                                     \n",
       "Lisosia93                 5                 $ 3.79              $ 18.96\n",
       "Idastidru52               4                 $ 3.86              $ 15.45\n",
       "Chamjask73                3                 $ 4.61              $ 13.83\n",
       "Iral74                    4                 $ 3.40              $ 13.62\n",
       "Iskadarya95               3                 $ 4.37              $ 13.10"
      ]
     },
     "execution_count": 33,
     "metadata": {},
     "output_type": "execute_result"
    }
   ],
   "source": [
    "top_spenders=purchase_data.groupby([\"SN\"])\n",
    "\n",
    "purchase_count_spenders=top_spenders[\"Purchase ID\"].count()\n",
    "\n",
    "avg_purchaseprice=top_spenders[\"Price\"].mean()\n",
    "\n",
    "total_purchase_spenders=top_spenders[\"Price\"].sum()\n",
    "\n",
    "spender_analysis= pd.DataFrame({\"Purchase Count\":purchase_count_spenders, \n",
    "                                \"Average Purchase Price\" :avg_purchaseprice,\n",
    "                                \"Total Purchase Value\": total_purchase_spenders})\n",
    "\n",
    "spender_analysis_sort=spender_analysis.sort_values(\"Total Purchase Value\", ascending=False)\n",
    "\n",
    "# Format with currency style\n",
    "spender_analysis_sort[\"Average Purchase Price\"] = spender_analysis_sort[\"Average Purchase Price\"].map(\"$ {:.2f}\".format)\n",
    "spender_analysis_sort[\"Total Purchase Value\"] = spender_analysis_sort[\"Total Purchase Value\"].map(\"$ {:.2f}\".format)\n",
    "\n",
    "spender_analysis_sort.head()"
   ]
  },
  {
   "cell_type": "code",
   "execution_count": 34,
   "metadata": {},
   "outputs": [],
   "source": [
    "## Most Popular Items"
   ]
  },
  {
   "cell_type": "code",
   "execution_count": 35,
   "metadata": {},
   "outputs": [],
   "source": [
    "## Retrieve the Item ID, Item Name, and Item Price columns\n",
    "## Group by Item ID and Item Name. Perform calculations to obtain purchase count, item price, and total purchase value\n",
    "## Create a summary data frame to hold the results\n",
    "## Sort the purchase count column in descending order\n",
    "## Optional: give the displayed data cleaner formatting\n",
    "## Display a preview of the summary data frame"
   ]
  },
  {
   "cell_type": "code",
   "execution_count": 36,
   "metadata": {},
   "outputs": [
    {
     "data": {
      "text/html": [
       "<div>\n",
       "<style scoped>\n",
       "    .dataframe tbody tr th:only-of-type {\n",
       "        vertical-align: middle;\n",
       "    }\n",
       "\n",
       "    .dataframe tbody tr th {\n",
       "        vertical-align: top;\n",
       "    }\n",
       "\n",
       "    .dataframe thead th {\n",
       "        text-align: right;\n",
       "    }\n",
       "</style>\n",
       "<table border=\"1\" class=\"dataframe\">\n",
       "  <thead>\n",
       "    <tr style=\"text-align: right;\">\n",
       "      <th></th>\n",
       "      <th></th>\n",
       "      <th>Purchase Count</th>\n",
       "      <th>Item Price</th>\n",
       "      <th>Total Purchase Value</th>\n",
       "    </tr>\n",
       "    <tr>\n",
       "      <th>Item ID</th>\n",
       "      <th>Item Name</th>\n",
       "      <th></th>\n",
       "      <th></th>\n",
       "      <th></th>\n",
       "    </tr>\n",
       "  </thead>\n",
       "  <tbody>\n",
       "    <tr>\n",
       "      <td>92</td>\n",
       "      <td>Final Critic</td>\n",
       "      <td>13</td>\n",
       "      <td>$ 4.61</td>\n",
       "      <td>$ 59.99</td>\n",
       "    </tr>\n",
       "    <tr>\n",
       "      <td>178</td>\n",
       "      <td>Oathbreaker, Last Hope of the Breaking Storm</td>\n",
       "      <td>12</td>\n",
       "      <td>$ 4.23</td>\n",
       "      <td>$ 50.76</td>\n",
       "    </tr>\n",
       "    <tr>\n",
       "      <td>145</td>\n",
       "      <td>Fiery Glass Crusader</td>\n",
       "      <td>9</td>\n",
       "      <td>$ 4.58</td>\n",
       "      <td>$ 41.22</td>\n",
       "    </tr>\n",
       "    <tr>\n",
       "      <td>132</td>\n",
       "      <td>Persuasion</td>\n",
       "      <td>9</td>\n",
       "      <td>$ 3.22</td>\n",
       "      <td>$ 28.99</td>\n",
       "    </tr>\n",
       "    <tr>\n",
       "      <td>108</td>\n",
       "      <td>Extraction, Quickblade Of Trembling Hands</td>\n",
       "      <td>9</td>\n",
       "      <td>$ 3.53</td>\n",
       "      <td>$ 31.77</td>\n",
       "    </tr>\n",
       "  </tbody>\n",
       "</table>\n",
       "</div>"
      ],
      "text/plain": [
       "                                                      Purchase Count  \\\n",
       "Item ID Item Name                                                      \n",
       "92      Final Critic                                              13   \n",
       "178     Oathbreaker, Last Hope of the Breaking Storm              12   \n",
       "145     Fiery Glass Crusader                                       9   \n",
       "132     Persuasion                                                 9   \n",
       "108     Extraction, Quickblade Of Trembling Hands                  9   \n",
       "\n",
       "                                                     Item Price  \\\n",
       "Item ID Item Name                                                 \n",
       "92      Final Critic                                     $ 4.61   \n",
       "178     Oathbreaker, Last Hope of the Breaking Storm     $ 4.23   \n",
       "145     Fiery Glass Crusader                             $ 4.58   \n",
       "132     Persuasion                                       $ 3.22   \n",
       "108     Extraction, Quickblade Of Trembling Hands        $ 3.53   \n",
       "\n",
       "                                                     Total Purchase Value  \n",
       "Item ID Item Name                                                          \n",
       "92      Final Critic                                              $ 59.99  \n",
       "178     Oathbreaker, Last Hope of the Breaking Storm              $ 50.76  \n",
       "145     Fiery Glass Crusader                                      $ 41.22  \n",
       "132     Persuasion                                                $ 28.99  \n",
       "108     Extraction, Quickblade Of Trembling Hands                 $ 31.77  "
      ]
     },
     "execution_count": 36,
     "metadata": {},
     "output_type": "execute_result"
    }
   ],
   "source": [
    "popular_items=purchase_data.groupby([\"Item ID\", \"Item Name\"])\n",
    "popular_items.count()\n",
    "\n",
    "purchase_count=popular_items[\"Purchase ID\"].count()\n",
    "purchase_count.max()\n",
    "\n",
    "item_price=popular_items[\"Price\"].mean()\n",
    "\n",
    "total_purchase_value=popular_items[\"Price\"].sum()\n",
    "total_purchase_value.max\n",
    "\n",
    "popular_analysis= pd.DataFrame({\"Purchase Count\":purchase_count,\"Item Price\" :item_price,\n",
    "                                \"Total Purchase Value\": total_purchase_value})\n",
    "\n",
    "popular_analysis_sort=popular_analysis.sort_values(\"Purchase Count\", ascending=False)\n",
    "\n",
    "popular_analysis_sort[\"Item Price\"] = popular_analysis_sort[\"Item Price\"].map(\"$ {:.2f}\".format)\n",
    "popular_analysis_sort[\"Total Purchase Value\"] = popular_analysis_sort[\"Total Purchase Value\"].map(\"$ {:.2f}\".format)\n",
    "\n",
    "popular_analysis_sort.head()"
   ]
  },
  {
   "cell_type": "code",
   "execution_count": null,
   "metadata": {},
   "outputs": [],
   "source": [
    "## Most Profitable Items\n"
   ]
  },
  {
   "cell_type": "code",
   "execution_count": null,
   "metadata": {},
   "outputs": [],
   "source": [
    "## Sort the above table by total purchase value in descending order\n",
    "## Optional: give the displayed data cleaner formatting\n",
    "## Display a preview of the data frame"
   ]
  },
  {
   "cell_type": "code",
   "execution_count": null,
   "metadata": {},
   "outputs": [],
   "source": [
    "#Table by purchase value in descending order\n",
    "#popular_analysis.head()\n",
    "\n",
    "profitable_analysis=popular_analysis.sort_values(\"Total Purchase Value\", ascending=False)\n",
    "\n",
    "#Cleaner formatting\n",
    "profitable_analysis_sort[\"Item Price\"] = profitable_analysis_sort[\"Item Price\"].map(\"$ {:.2f}\".format)\n",
    "profitable_analysis_sort[\"Total Purchase Value\"] = profitable_analysis_sort[\"Total Purchase Value\"].map(\"$ {:.2f}\".format)\n",
    "\n",
    "profitable_analysis_sort.head()\n",
    "popular_sort = popular_items.sort_values([\"Total Purchase Value\"],ascending=False).head()"
   ]
  },
  {
   "cell_type": "code",
   "execution_count": null,
   "metadata": {},
   "outputs": [],
   "source": [
    "## Observable Trends"
   ]
  },
  {
   "cell_type": "code",
   "execution_count": null,
   "metadata": {},
   "outputs": [],
   "source": [
    "## Of the total number of players, the majority are male(84%), with a smaller portion of female and other players.\n",
    "## Around 45% of the players are around the age range of 20-24 \n",
    "## They are also the age group that spends the most overall. But the group age that has the highest average purchase is the ones between 35-59."
   ]
  },
  {
   "cell_type": "code",
   "execution_count": null,
   "metadata": {},
   "outputs": [],
   "source": []
  }
 ],
 "metadata": {
  "kernelspec": {
   "display_name": "Python 3",
   "language": "python",
   "name": "python3"
  },
  "language_info": {
   "codemirror_mode": {
    "name": "ipython",
    "version": 3
   },
   "file_extension": ".py",
   "mimetype": "text/x-python",
   "name": "python",
   "nbconvert_exporter": "python",
   "pygments_lexer": "ipython3",
   "version": "3.7.4"
  }
 },
 "nbformat": 4,
 "nbformat_minor": 2
}
