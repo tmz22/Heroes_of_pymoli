{
 "cells": [
  {
   "cell_type": "code",
   "execution_count": null,
   "metadata": {},
   "outputs": [],
   "source": [
    "# Dependencies\n",
    "import pandas as pd"
   ]
  },
  {
   "cell_type": "code",
   "execution_count": null,
   "metadata": {},
   "outputs": [],
   "source": [
    "# File to Load\n",
    "file_to_load = \"../Resources/purchase_data.csv\""
   ]
  },
  {
   "cell_type": "code",
   "execution_count": null,
   "metadata": {},
   "outputs": [],
   "source": [
    "# Read Purchasing File and store into Pandas data frame\n",
    "purchase_data = pd.read_csv(file_to_load)\n",
    "purchase_data.head()"
   ]
  },
  {
   "cell_type": "code",
   "execution_count": null,
   "metadata": {},
   "outputs": [],
   "source": [
    "## Player Count"
   ]
  },
  {
   "cell_type": "code",
   "execution_count": null,
   "metadata": {},
   "outputs": [],
   "source": [
    "total_players=purchase_data[\"SN\"].nunique()"
   ]
  },
  {
   "cell_type": "code",
   "execution_count": null,
   "metadata": {
    "scrolled": true
   },
   "outputs": [],
   "source": [
    "pd.DataFrame({\"Total Players\":[total_players]})"
   ]
  },
  {
   "cell_type": "code",
   "execution_count": null,
   "metadata": {},
   "outputs": [],
   "source": [
    "##Purchasing Analysis (Total)"
   ]
  },
  {
   "cell_type": "code",
   "execution_count": null,
   "metadata": {},
   "outputs": [],
   "source": [
    "##Run basic calculations to obtain number of unique items, average price, etc.\n",
    "##Create a summary data frame to hold the results\n",
    "##Optional: give the displayed data cleaner formatting\n",
    "##Display the summary data frame"
   ]
  },
  {
   "cell_type": "code",
   "execution_count": null,
   "metadata": {},
   "outputs": [],
   "source": [
    "#Variable and calcualtion for average. \n",
    "average_price = purchase_data[\"Price\"].mean()\n",
    "average_price"
   ]
  },
  {
   "cell_type": "code",
   "execution_count": null,
   "metadata": {},
   "outputs": [],
   "source": [
    "#Variable and calculation for total revenue.\n",
    "total_purchase = purchase_data[\"Price\"].sum()\n",
    "total_purchase"
   ]
  },
  {
   "cell_type": "code",
   "execution_count": null,
   "metadata": {},
   "outputs": [],
   "source": [
    "#Variable and calculation for number of purchases.\n",
    "purchase_count = purchase_data[\"Price\"].count()\n",
    "purchase_count"
   ]
  },
  {
   "cell_type": "code",
   "execution_count": null,
   "metadata": {},
   "outputs": [],
   "source": [
    "#Variable and calculation for number of unique items. \n",
    "unique_items =len(purchase_data[\"Item ID\"].unique())\n",
    "unique_items"
   ]
  },
  {
   "cell_type": "code",
   "execution_count": null,
   "metadata": {},
   "outputs": [],
   "source": [
    "#Summary data frame to hold the results\n",
    "summary_table = pd.DataFrame({\"Number of Unique Items\":[unique_items],\n",
    "                             \"Average Price\":[average_price],\n",
    "                             \"Number of Purchases\":[purchase_count],\n",
    "                             \"Total Revenue\":[total_purchase]})\n",
    "\n",
    "#Optional: give the displayed data cleaner formatting\n",
    "summary_table [\"Average Price\"] = summary_table[\"Average Price\"].map(\"${:,.2f}\".format)\n",
    "summary_table [\"Total Revenue\"] = summary_table[\"Total Revenue\"].map(\"${:,.2f}\".format)\n",
    "summary_table"
   ]
  },
  {
   "cell_type": "code",
   "execution_count": null,
   "metadata": {},
   "outputs": [],
   "source": [
    "##Gender Demographics"
   ]
  },
  {
   "cell_type": "code",
   "execution_count": null,
   "metadata": {},
   "outputs": [],
   "source": [
    "##Percentage and Count of Male Players\n",
    "##Percentage and Count of Female Players\n",
    "##Percentage and Count of Other / Non-Disclosed"
   ]
  },
  {
   "cell_type": "code",
   "execution_count": null,
   "metadata": {},
   "outputs": [],
   "source": [
    "#Groupby \n",
    "players_gen = purchase_data.groupby(\"Gender\")\n",
    "players_gen\n",
    "\n",
    "# Count the total players \"SN\" by gender.\n",
    "gender_count = players_gen.nunique()[\"SN\"]\n",
    "gender_count\n",
    "\n",
    "#Percentage of players based on gender.\n",
    "gender_per = gender_count / total_players * 100\n",
    "\n",
    "# Create data frame with obtained values\n",
    "gender_demo = pd.DataFrame({\"Percentage of Players\": gender_per, \"Total Count\": gender_count})\n",
    "\n",
    "# Format the data frame with no index name in the corner\n",
    "gender_demo.index.name = None\n",
    "\n",
    "\n",
    "# Create data frame\n",
    "#gender_demo.sort_values([\"Total Count\"], ascending = False).style.format({\"Percentage of Players\":\"{:.2f}%\"})\n",
    "gender_demo.sort_values([\"Total Count\"], ascending = False).style.format({\"Percentage of Players\":\"{:.2f}%\"})"
   ]
  },
  {
   "cell_type": "code",
   "execution_count": null,
   "metadata": {},
   "outputs": [],
   "source": [
    "##Purchasing Analysis (Gender)"
   ]
  },
  {
   "cell_type": "code",
   "execution_count": null,
   "metadata": {},
   "outputs": [],
   "source": [
    "##Run basic calculations to obtain purchase count, avg. purchase price, avg. purchase total per person etc. by gender\n",
    "##Create a summary data frame to hold the results\n",
    "##Optional: give the displayed data cleaner formatting\n",
    "##Display the summary data frame"
   ]
  },
  {
   "cell_type": "code",
   "execution_count": null,
   "metadata": {},
   "outputs": [],
   "source": [
    "#Groupby\n",
    "#purchase_data = pd.read_csv(file_to_load)\n",
    "#gender_purchase_total = purchase_data.groupby([\"Gender\"]).sum()[\"Price\"].rename(\"Total Purchase Value\")\n",
    "#gender_average = purchase_data.groupby([\"Gender\"]).mean()[\"Price\"].rename(\"Average Purchase Price\")\n",
    "#gender_counts = purchase_data.groupby([\"Gender\"]).count()[\"Price\"].rename(\"Purchase Count\")"
   ]
  },
  {
   "cell_type": "code",
   "execution_count": null,
   "metadata": {},
   "outputs": [],
   "source": [
    "#Variable and calcualtion for purchase count by gender \n",
    "purchase_count = players_gen[\"Purchase ID\"].count()\n",
    "purchase_count"
   ]
  },
  {
   "cell_type": "code",
   "execution_count": null,
   "metadata": {},
   "outputs": [],
   "source": [
    "#Variable and calculation for Average Purchase Price\n",
    "avg_price = players_gen[\"Price\"].mean()\n",
    "avg_price"
   ]
  },
  {
   "cell_type": "code",
   "execution_count": null,
   "metadata": {},
   "outputs": [],
   "source": [
    "#Variable and calculation for Average Purchase Total\n",
    "avg_purchase_total = players_gen[\"Price\"].sum()\n",
    "avg_purchase_total"
   ]
  },
  {
   "cell_type": "code",
   "execution_count": null,
   "metadata": {},
   "outputs": [],
   "source": [
    "#Variable and calculation for Average Total Per Person\n",
    "avg_per_person = avg_purchase_total/gender_count\n",
    "avg_per_person"
   ]
  },
  {
   "cell_type": "code",
   "execution_count": null,
   "metadata": {},
   "outputs": [],
   "source": [
    "\n",
    "#Data frame to show the results \n",
    "gender_demo = pd.DataFrame({\"Purchase Count\": purchase_count, \n",
    "                                    \"Average Purchase Price\": avg_price,\n",
    "                                    \"Average Purchase Value\":avg_purchase_total,\n",
    "                                    \"Avg Purchase Total per Person\": avg_per_person})\n",
    "\n",
    "# Provide index in top left as \"Gender\"\n",
    "gender_demo.index.name = \"Gender\"\n",
    "\n",
    "# Format with currency style\n",
    "gender_demo.style.format({\"Average Purchase Value\":\"${:,.2f}\",\n",
    "                                  \"Average Purchase Price\":\"${:,.2f}\",\n",
    "                                  \"Avg Purchase Total per Person\":\"${:,.2f}\"})\n",
    "gender_demo"
   ]
  },
  {
   "cell_type": "code",
   "execution_count": null,
   "metadata": {},
   "outputs": [],
   "source": [
    "##Age Demographics"
   ]
  },
  {
   "cell_type": "code",
   "execution_count": null,
   "metadata": {},
   "outputs": [],
   "source": [
    "##Establish bins for ages\n",
    "##Categorize the existing players using the age bins. Hint: use pd.cut()\n",
    "##Calculate the numbers and percentages by age group\n",
    "##Create a summary data frame to hold the results\n",
    "##Optional: round the percentage column to two decimal points\n",
    "##Display Age Demographics Table"
   ]
  },
  {
   "cell_type": "code",
   "execution_count": null,
   "metadata": {},
   "outputs": [],
   "source": [
    "#Bins and labels for ages \n",
    "bins = [0, 9, 14, 19, 24, 29, 34, 39, 100]\n",
    "age_labels = [\"<10\", \"10-14\", \"15-19\", \"20-24\", \"25-29\", \"30-34\", \"35-39\", \"40+\"]\n",
    "\n",
    "#Sort age values into bins established above\n",
    "purchase_data[\"Age Group\"] = pd.cut(purchase_data[\"Age\"],bins, labels=age_labels)\n",
    "purchase_data\n",
    "\n",
    "#Data frame with \"Age Group\" and group it\n",
    "age_grouped = purchase_data.groupby(\"Age Group\")\n",
    "\n",
    "# Count total players by age category\n",
    "total_age_count = age_grouped[\"SN\"].nunique()\n",
    "\n",
    "# Calculate percentages by age category \n",
    "per_age = (total_age_count/total_players) * 100\n",
    "\n",
    "# Create data frame with obtained values\n",
    "age_table = pd.DataFrame({\"Percentage of Players\": per_age, \"Total Count\": total_age_count})\n",
    "\n",
    "# Format the data frame with no index name in the corner\n",
    "age_table.index.name = None\n",
    "\n",
    "# Format percentage with two decimal places \n",
    "age_table.style.format({\"Percentage of Players\":\"{:,.2f}\"})\n"
   ]
  },
  {
   "cell_type": "code",
   "execution_count": null,
   "metadata": {},
   "outputs": [],
   "source": [
    "## Purchasing Analysis (Age)"
   ]
  },
  {
   "cell_type": "code",
   "execution_count": null,
   "metadata": {},
   "outputs": [],
   "source": [
    "##Bin the purchase_data data frame by age\n",
    "##Run basic calculations to obtain purchase count, avg. purchase price, avg. purchase total per person etc. in the table below\n",
    "##Create a summary data frame to hold the results\n",
    "##Optional: give the displayed data cleaner formatting\n",
    "##Display the summary data frame"
   ]
  },
  {
   "cell_type": "code",
   "execution_count": null,
   "metadata": {},
   "outputs": [],
   "source": [
    "#Bins\n",
    "bins = [0,9,14,19,24,29,34,39, 100]\n",
    "\n",
    "# Count purchases by age group\n",
    "purchase_count = age_grouped[\"Purchase ID\"].count()\n",
    "\n",
    "# Obtain average purchase price by age group \n",
    "avg_purchase_age = age_grouped[\"Price\"].mean()\n",
    "\n",
    "# Calculate total purchase value by age group \n",
    "total_purchase_value = age_grouped[\"Price\"].sum()\n",
    "\n",
    "# Calculate the average purchase per person in the age group \n",
    "avg_per_person_age = total_purchase_value/total_age_count\n",
    "\n",
    "# Create data frame with obtained values\n",
    "age_demographics = pd.DataFrame({\"Purchase Count\": purchase_count,\n",
    "                                 \"Average Purchase Price\": avg_purchase_age,\n",
    "                                 \"Total Purchase Value\":total_purchase_value,\n",
    "                                 \"Average Purchase Total per Person\": avg_per_person_age})\n",
    "\n",
    "# Format the data frame with no index name in the corner\n",
    "age_demographics.index.name = None\n",
    "\n",
    "# Format with currency style\n",
    "age_demographics.style.format({\"Average Purchase Price\":\"${:,.2f}\",\n",
    "                               \"Total Purchase Value\":\"${:,.2f}\",\n",
    "                               \"Average Purchase Total per Person\":\"${:,.2f}\"})"
   ]
  },
  {
   "cell_type": "code",
   "execution_count": null,
   "metadata": {},
   "outputs": [],
   "source": [
    "## Top Spenders"
   ]
  },
  {
   "cell_type": "code",
   "execution_count": null,
   "metadata": {},
   "outputs": [],
   "source": [
    "##Run basic calculations to obtain the results in the table below\n",
    "##Create a summary data frame to hold the results\n",
    "##Sort the total purchase value column in descending order\n",
    "##Optional: give the displayed data cleaner formatting\n",
    "##Display a preview of the summary data frame"
   ]
  },
  {
   "cell_type": "code",
   "execution_count": null,
   "metadata": {},
   "outputs": [],
   "source": [
    "top_spenders=purchase_data.groupby([\"SN\"])\n",
    "\n",
    "purchase_count_spenders=top_spenders[\"Purchase ID\"].count()\n",
    "\n",
    "avg_purchaseprice=top_spenders[\"Price\"].mean()\n",
    "\n",
    "total_purchase_spenders=top_spenders[\"Price\"].sum()\n",
    "\n",
    "spender_analysis= pd.DataFrame({\"Purchase Count\":purchase_count_spenders, \n",
    "                                \"Average Purchase Price\" :avg_purchaseprice,\n",
    "                                \"Total Purchase Value\": total_purchase_spenders})\n",
    "\n",
    "spender_analysis_sort=spender_analysis.sort_values(\"Total Purchase Value\", ascending=False)\n",
    "\n",
    "# Format with currency style\n",
    "spender_analysis_sort[\"Average Purchase Price\"] = spender_analysis_sort[\"Average Purchase Price\"].map(\"$ {:.2f}\".format)\n",
    "spender_analysis_sort[\"Total Purchase Value\"] = spender_analysis_sort[\"Total Purchase Value\"].map(\"$ {:.2f}\".format)\n",
    "\n",
    "spender_analysis_sort.head()"
   ]
  },
  {
   "cell_type": "code",
   "execution_count": null,
   "metadata": {},
   "outputs": [],
   "source": [
    "## Most Popular Items"
   ]
  },
  {
   "cell_type": "code",
   "execution_count": null,
   "metadata": {},
   "outputs": [],
   "source": [
    "## Retrieve the Item ID, Item Name, and Item Price columns\n",
    "## Group by Item ID and Item Name. Perform calculations to obtain purchase count, item price, and total purchase value\n",
    "## Create a summary data frame to hold the results\n",
    "## Sort the purchase count column in descending order\n",
    "## Optional: give the displayed data cleaner formatting\n",
    "## Display a preview of the summary data frame"
   ]
  },
  {
   "cell_type": "code",
   "execution_count": null,
   "metadata": {},
   "outputs": [],
   "source": [
    "popular_items=purchase_data.groupby([\"Item ID\", \"Item Name\"])\n",
    "popular_items.count()\n",
    "\n",
    "purchase_count=popular_items[\"Purchase ID\"].count()\n",
    "purchase_count.max()\n",
    "\n",
    "item_price=popular_items[\"Price\"].mean()\n",
    "\n",
    "total_purchase_value=popular_items[\"Price\"].sum()\n",
    "total_purchase_value.max\n",
    "\n",
    "popular_analysis= pd.DataFrame({\"Purchase Count\":purchase_count,\"Item Price\" :item_price,\n",
    "                                \"Total Purchase Value\": total_purchase_value})\n",
    "\n",
    "popular_analysis_sort=popular_analysis.sort_values(\"Purchase Count\", ascending=False)\n",
    "\n",
    "popular_analysis_sort[\"Item Price\"] = popular_analysis_sort[\"Item Price\"].map(\"$ {:.2f}\".format)\n",
    "popular_analysis_sort[\"Total Purchase Value\"] = popular_analysis_sort[\"Total Purchase Value\"].map(\"$ {:.2f}\".format)\n",
    "\n",
    "popular_analysis_sort.head()"
   ]
  },
  {
   "cell_type": "code",
   "execution_count": null,
   "metadata": {},
   "outputs": [],
   "source": [
    "## Most Profitable Items\n"
   ]
  },
  {
   "cell_type": "code",
   "execution_count": null,
   "metadata": {},
   "outputs": [],
   "source": [
    "## Sort the above table by total purchase value in descending order\n",
    "## Optional: give the displayed data cleaner formatting\n",
    "## Display a preview of the data frame"
   ]
  },
  {
   "cell_type": "code",
   "execution_count": null,
   "metadata": {},
   "outputs": [],
   "source": [
    "#Table by purchase value in descending order\n",
    "#popular_analysis.head()\n",
    "\n",
    "profitable_analysis=popular_analysis.sort_values(\"Total Purchase Value\", ascending=False)\n",
    "\n",
    "#Cleaner formatting\n",
    "profitable_analysis_sort[\"Item Price\"] = profitable_analysis_sort[\"Item Price\"].map(\"$ {:.2f}\".format)\n",
    "profitable_analysis_sort[\"Total Purchase Value\"] = profitable_analysis_sort[\"Total Purchase Value\"].map(\"$ {:.2f}\".format)\n",
    "\n",
    "profitable_analysis_sort.head()\n",
    "popular_sort = popular_items.sort_values([\"Total Purchase Value\"],ascending=False).head()"
   ]
  },
  {
   "cell_type": "code",
   "execution_count": null,
   "metadata": {},
   "outputs": [],
   "source": [
    "## Observable Trends"
   ]
  },
  {
   "cell_type": "code",
   "execution_count": null,
   "metadata": {},
   "outputs": [],
   "source": [
    "## Of the total number of players, the majority are male(84%), with a smaller portion of female and other players.\n",
    "## Around 45% of the players are around the age range of 20-24 \n",
    "## They are also the age group that spends the most overall. But the group age that has the highest average purchase is the ones between 35-59."
   ]
  },
  {
   "cell_type": "code",
   "execution_count": null,
   "metadata": {},
   "outputs": [],
   "source": []
  }
 ],
 "metadata": {
  "kernelspec": {
   "display_name": "Python 3",
   "language": "python",
   "name": "python3"
  },
  "language_info": {
   "codemirror_mode": {
    "name": "ipython",
    "version": 3
   },
   "file_extension": ".py",
   "mimetype": "text/x-python",
   "name": "python",
   "nbconvert_exporter": "python",
   "pygments_lexer": "ipython3",
   "version": "3.7.4"
  }
 },
 "nbformat": 4,
 "nbformat_minor": 2
}
